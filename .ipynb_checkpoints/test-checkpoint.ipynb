{
 "cells": [
  {
   "cell_type": "code",
   "execution_count": 1,
   "metadata": {},
   "outputs": [
    {
     "name": "stdout",
     "output_type": "stream",
     "text": [
      "2022-01-01     1.0\n",
      "2022-01-02     2.0\n",
      "2022-01-03     4.0\n",
      "2022-01-04     4.0\n",
      "2022-01-05     6.0\n",
      "2022-01-06     6.0\n",
      "2022-01-07     7.0\n",
      "2022-01-08    10.0\n",
      "2022-01-09    10.0\n",
      "2022-01-10    10.0\n",
      "Freq: D, dtype: float64\n"
     ]
    }
   ],
   "source": [
    "import pandas as pd\n",
    "import numpy as np\n",
    "\n",
    "# create a sample time series with missing values\n",
    "dates = pd.date_range(start='2022-01-01', end='2022-01-10')\n",
    "data = [1, 2, None, 4, None, 6, 7, None, None, 10]\n",
    "ts = pd.Series(data, index=dates)\n",
    "\n",
    "# fill missing values using forward fill\n",
    "ts_ffill = ts.fillna(method='bfill')\n",
    "\n",
    "# print the imputed time series\n",
    "print(ts_ffill)\n"
   ]
  },
  {
   "cell_type": "code",
   "execution_count": 2,
   "metadata": {},
   "outputs": [
    {
     "name": "stdout",
     "output_type": "stream",
     "text": [
      "2022-01-01     1.0\n",
      "2022-01-02     2.0\n",
      "2022-01-03     3.0\n",
      "2022-01-04     4.0\n",
      "2022-01-05     5.0\n",
      "2022-01-06     6.0\n",
      "2022-01-07     7.0\n",
      "2022-01-08     8.0\n",
      "2022-01-09     9.0\n",
      "2022-01-10    10.0\n",
      "Freq: D, dtype: float64\n"
     ]
    }
   ],
   "source": [
    "#Interpolation\n",
    "import pandas as pd\n",
    "import numpy as np\n",
    "\n",
    "# create a sample time series with missing values\n",
    "index = pd.date_range('2022-01-01', periods=10, freq='D')\n",
    "values = [1, 2, np.nan, 4, np.nan, 6, 7, np.nan, np.nan, 10]\n",
    "ts = pd.Series(values, index=index)\n",
    "\n",
    "# interpolate missing values using linear interpolation\n",
    "ts_interp = ts.interpolate()\n",
    "\n",
    "# print the imputed time series\n",
    "print(ts_interp)\n"
   ]
  },
  {
   "cell_type": "code",
   "execution_count": 4,
   "metadata": {},
   "outputs": [
    {
     "data": {
      "text/plain": [
       "[3, 4, 5, 6]"
      ]
     },
     "execution_count": 4,
     "metadata": {},
     "output_type": "execute_result"
    }
   ],
   "source": [
    "# create a list\n",
    "my_list = [0, 1, 2, 3, 4, 5, 6, 7, 8, 9]\n",
    "# slice the list to extract elements from index 3 to index 6\n",
    "middle = my_list[3:7]\n",
    "middle"
   ]
  },
  {
   "cell_type": "code",
   "execution_count": 6,
   "metadata": {},
   "outputs": [
    {
     "data": {
      "text/plain": [
       "[2, 3, 4, 5, 6, 7, 8, 9]"
      ]
     },
     "execution_count": 6,
     "metadata": {},
     "output_type": "execute_result"
    }
   ],
   "source": [
    "# slice the list to extract every other element starting from index 2\n",
    "every_other = my_list[2:]\n",
    "every_other"
   ]
  },
  {
   "cell_type": "code",
   "execution_count": 18,
   "metadata": {},
   "outputs": [
    {
     "data": {
      "text/plain": [
       "[0, 1, 2, 3, 4, 5, 6, 7, 8]"
      ]
     },
     "execution_count": 18,
     "metadata": {},
     "output_type": "execute_result"
    }
   ],
   "source": [
    "# slice the list to extract every element starting from index 1 up to but not including the last element\n",
    "last_to_second = my_list[-10:-1]\n",
    "last_to_second"
   ]
  },
  {
   "cell_type": "code",
   "execution_count": 21,
   "metadata": {},
   "outputs": [
    {
     "name": "stderr",
     "output_type": "stream",
     "text": [
      "C:\\Users\\hp\\AppData\\Local\\Temp\\ipykernel_10080\\103142191.py:2: DtypeWarning: Columns (5) have mixed types. Specify dtype option on import or set low_memory=False.\n",
      "  df=pd.read_csv(r\"C:\\Users\\hp\\Desktop\\New folder - Copy\\Bluestacks\\OpenSea_NFT_Sale.csv\",parse_dates=['sales_datetime'])\n"
     ]
    },
    {
     "data": {
      "text/html": [
       "<div>\n",
       "<style scoped>\n",
       "    .dataframe tbody tr th:only-of-type {\n",
       "        vertical-align: middle;\n",
       "    }\n",
       "\n",
       "    .dataframe tbody tr th {\n",
       "        vertical-align: top;\n",
       "    }\n",
       "\n",
       "    .dataframe thead th {\n",
       "        text-align: right;\n",
       "    }\n",
       "</style>\n",
       "<table border=\"1\" class=\"dataframe\">\n",
       "  <thead>\n",
       "    <tr style=\"text-align: right;\">\n",
       "      <th></th>\n",
       "      <th>sales_datetime</th>\n",
       "      <th>id</th>\n",
       "      <th>asset.id</th>\n",
       "      <th>asset.name</th>\n",
       "      <th>asset.collection.name</th>\n",
       "      <th>asset.collection.short_description</th>\n",
       "      <th>asset.permalink</th>\n",
       "      <th>total_price</th>\n",
       "      <th>payment_token.name</th>\n",
       "      <th>payment_token.usd_price</th>\n",
       "      <th>asset.num_sales</th>\n",
       "      <th>seller.address</th>\n",
       "      <th>seller.user.username</th>\n",
       "      <th>winner_account.address</th>\n",
       "      <th>Category</th>\n",
       "    </tr>\n",
       "  </thead>\n",
       "  <tbody>\n",
       "    <tr>\n",
       "      <th>0</th>\n",
       "      <td>2019-01-01 15:48:57</td>\n",
       "      <td>7453402</td>\n",
       "      <td>0</td>\n",
       "      <td>NaN</td>\n",
       "      <td>NaN</td>\n",
       "      <td>NaN</td>\n",
       "      <td>NaN</td>\n",
       "      <td>150000000000000000</td>\n",
       "      <td>Ether</td>\n",
       "      <td>4119.5000</td>\n",
       "      <td>0</td>\n",
       "      <td>0xf8856124ea157d6f26472e38224ee6744ad13af3</td>\n",
       "      <td>Farm4Ace</td>\n",
       "      <td>0x7ebc7e83cb2b43deafa82eb0ae8b5daea3fe9a13</td>\n",
       "      <td>Uncategorized</td>\n",
       "    </tr>\n",
       "    <tr>\n",
       "      <th>1</th>\n",
       "      <td>2019-01-01 23:50:55</td>\n",
       "      <td>7461241</td>\n",
       "      <td>0</td>\n",
       "      <td>NaN</td>\n",
       "      <td>NaN</td>\n",
       "      <td>NaN</td>\n",
       "      <td>NaN</td>\n",
       "      <td>120000000000000000</td>\n",
       "      <td>Ether</td>\n",
       "      <td>4119.5000</td>\n",
       "      <td>0</td>\n",
       "      <td>0xf29db2342a9dcb1bba4f7f2b1029bdd8ae5c0668</td>\n",
       "      <td>NaN</td>\n",
       "      <td>0x8691271d453022a447320ed82bcb2a30ba949d03</td>\n",
       "      <td>Uncategorized</td>\n",
       "    </tr>\n",
       "    <tr>\n",
       "      <th>2</th>\n",
       "      <td>2019-01-02 16:44:58</td>\n",
       "      <td>7471818</td>\n",
       "      <td>0</td>\n",
       "      <td>NaN</td>\n",
       "      <td>NaN</td>\n",
       "      <td>NaN</td>\n",
       "      <td>NaN</td>\n",
       "      <td>100000000000000000</td>\n",
       "      <td>Ether</td>\n",
       "      <td>4119.5000</td>\n",
       "      <td>0</td>\n",
       "      <td>0x057dc43af6187a931e78a56b3293912a5b42e5ec</td>\n",
       "      <td>hagoromo</td>\n",
       "      <td>0xff60e23eb04b76c699e3d180617c3245cbcafd78</td>\n",
       "      <td>Uncategorized</td>\n",
       "    </tr>\n",
       "    <tr>\n",
       "      <th>3</th>\n",
       "      <td>2019-01-03 06:31:46</td>\n",
       "      <td>7485269</td>\n",
       "      <td>0</td>\n",
       "      <td>NaN</td>\n",
       "      <td>NaN</td>\n",
       "      <td>NaN</td>\n",
       "      <td>NaN</td>\n",
       "      <td>10000000000000000</td>\n",
       "      <td>Ether</td>\n",
       "      <td>4119.5000</td>\n",
       "      <td>0</td>\n",
       "      <td>0x112ab3e7440b6e6b5c0fe0245579755dd78285b3</td>\n",
       "      <td>NaN</td>\n",
       "      <td>0xa58d0065cb381c80db1487e09ec803cd26a26264</td>\n",
       "      <td>Uncategorized</td>\n",
       "    </tr>\n",
       "    <tr>\n",
       "      <th>4</th>\n",
       "      <td>2019-01-03 10:31:43</td>\n",
       "      <td>7487454</td>\n",
       "      <td>0</td>\n",
       "      <td>NaN</td>\n",
       "      <td>NaN</td>\n",
       "      <td>NaN</td>\n",
       "      <td>NaN</td>\n",
       "      <td>249580457577544250</td>\n",
       "      <td>Ether</td>\n",
       "      <td>4119.5000</td>\n",
       "      <td>0</td>\n",
       "      <td>0x889463ce0946ec870c6e9a5a42a0e85c6d1a20fd</td>\n",
       "      <td>OffTheBlockChainAxies</td>\n",
       "      <td>0x445ba6f9f553872fa9cdc14f5c0639365b39c140</td>\n",
       "      <td>Uncategorized</td>\n",
       "    </tr>\n",
       "    <tr>\n",
       "      <th>5</th>\n",
       "      <td>2019-01-04 23:00:12</td>\n",
       "      <td>7521008</td>\n",
       "      <td>0</td>\n",
       "      <td>NaN</td>\n",
       "      <td>NaN</td>\n",
       "      <td>NaN</td>\n",
       "      <td>NaN</td>\n",
       "      <td>6000000000</td>\n",
       "      <td>NaN</td>\n",
       "      <td>0.0171</td>\n",
       "      <td>0</td>\n",
       "      <td>0x246819f4bd184bdac1521155390c180afeb6be6b</td>\n",
       "      <td>comerclap</td>\n",
       "      <td>0xf796b8fb98c7c98fd4b5424ced013820d1f2ee76</td>\n",
       "      <td>Uncategorized</td>\n",
       "    </tr>\n",
       "    <tr>\n",
       "      <th>6</th>\n",
       "      <td>2019-01-05 15:54:29</td>\n",
       "      <td>7529283</td>\n",
       "      <td>0</td>\n",
       "      <td>NaN</td>\n",
       "      <td>NaN</td>\n",
       "      <td>NaN</td>\n",
       "      <td>NaN</td>\n",
       "      <td>3000000000000000000</td>\n",
       "      <td>Ether</td>\n",
       "      <td>4119.5000</td>\n",
       "      <td>0</td>\n",
       "      <td>0xd63de3ee4197fda5040d6045a3d4202c3b80f4dd</td>\n",
       "      <td>NaN</td>\n",
       "      <td>0xa621de726b1a71bf961354a57b9be62b77900d19</td>\n",
       "      <td>Uncategorized</td>\n",
       "    </tr>\n",
       "    <tr>\n",
       "      <th>7</th>\n",
       "      <td>2019-01-05 16:03:58</td>\n",
       "      <td>7529370</td>\n",
       "      <td>0</td>\n",
       "      <td>NaN</td>\n",
       "      <td>NaN</td>\n",
       "      <td>NaN</td>\n",
       "      <td>NaN</td>\n",
       "      <td>200000000000000000</td>\n",
       "      <td>Ether</td>\n",
       "      <td>4119.5000</td>\n",
       "      <td>0</td>\n",
       "      <td>0x91f04ffe5aa427e977086746e7b9e1b997f2afa8</td>\n",
       "      <td>yu</td>\n",
       "      <td>0xe531544db533d5fdb6bdbbb1f8f5ee9545e94109</td>\n",
       "      <td>Uncategorized</td>\n",
       "    </tr>\n",
       "    <tr>\n",
       "      <th>8</th>\n",
       "      <td>2019-01-05 23:55:47</td>\n",
       "      <td>7533758</td>\n",
       "      <td>0</td>\n",
       "      <td>NaN</td>\n",
       "      <td>NaN</td>\n",
       "      <td>NaN</td>\n",
       "      <td>NaN</td>\n",
       "      <td>45000000000000000</td>\n",
       "      <td>Ether</td>\n",
       "      <td>4119.5000</td>\n",
       "      <td>0</td>\n",
       "      <td>0x1f4b10ffb832581ae5a975ed38eeac9f4e960bdf</td>\n",
       "      <td>untitledid</td>\n",
       "      <td>0x057dc43af6187a931e78a56b3293912a5b42e5ec</td>\n",
       "      <td>Uncategorized</td>\n",
       "    </tr>\n",
       "    <tr>\n",
       "      <th>9</th>\n",
       "      <td>2019-01-06 05:04:11</td>\n",
       "      <td>7534679</td>\n",
       "      <td>0</td>\n",
       "      <td>NaN</td>\n",
       "      <td>NaN</td>\n",
       "      <td>NaN</td>\n",
       "      <td>NaN</td>\n",
       "      <td>1629681488392175610</td>\n",
       "      <td>Ether</td>\n",
       "      <td>4119.5000</td>\n",
       "      <td>0</td>\n",
       "      <td>0x3904d7debce689933d4e10d245e714cbadb50c0e</td>\n",
       "      <td>0x3904d7debce689933d4e10d245e714cbadb50c0e</td>\n",
       "      <td>0xc074e40867818df9c264bb48bad75366d2a80868</td>\n",
       "      <td>Uncategorized</td>\n",
       "    </tr>\n",
       "  </tbody>\n",
       "</table>\n",
       "</div>"
      ],
      "text/plain": [
       "       sales_datetime       id  asset.id asset.name asset.collection.name  \\\n",
       "0 2019-01-01 15:48:57  7453402         0        NaN                   NaN   \n",
       "1 2019-01-01 23:50:55  7461241         0        NaN                   NaN   \n",
       "2 2019-01-02 16:44:58  7471818         0        NaN                   NaN   \n",
       "3 2019-01-03 06:31:46  7485269         0        NaN                   NaN   \n",
       "4 2019-01-03 10:31:43  7487454         0        NaN                   NaN   \n",
       "5 2019-01-04 23:00:12  7521008         0        NaN                   NaN   \n",
       "6 2019-01-05 15:54:29  7529283         0        NaN                   NaN   \n",
       "7 2019-01-05 16:03:58  7529370         0        NaN                   NaN   \n",
       "8 2019-01-05 23:55:47  7533758         0        NaN                   NaN   \n",
       "9 2019-01-06 05:04:11  7534679         0        NaN                   NaN   \n",
       "\n",
       "  asset.collection.short_description asset.permalink          total_price  \\\n",
       "0                                NaN             NaN   150000000000000000   \n",
       "1                                NaN             NaN   120000000000000000   \n",
       "2                                NaN             NaN   100000000000000000   \n",
       "3                                NaN             NaN    10000000000000000   \n",
       "4                                NaN             NaN   249580457577544250   \n",
       "5                                NaN             NaN           6000000000   \n",
       "6                                NaN             NaN  3000000000000000000   \n",
       "7                                NaN             NaN   200000000000000000   \n",
       "8                                NaN             NaN    45000000000000000   \n",
       "9                                NaN             NaN  1629681488392175610   \n",
       "\n",
       "  payment_token.name  payment_token.usd_price  asset.num_sales  \\\n",
       "0              Ether                4119.5000                0   \n",
       "1              Ether                4119.5000                0   \n",
       "2              Ether                4119.5000                0   \n",
       "3              Ether                4119.5000                0   \n",
       "4              Ether                4119.5000                0   \n",
       "5                NaN                   0.0171                0   \n",
       "6              Ether                4119.5000                0   \n",
       "7              Ether                4119.5000                0   \n",
       "8              Ether                4119.5000                0   \n",
       "9              Ether                4119.5000                0   \n",
       "\n",
       "                               seller.address  \\\n",
       "0  0xf8856124ea157d6f26472e38224ee6744ad13af3   \n",
       "1  0xf29db2342a9dcb1bba4f7f2b1029bdd8ae5c0668   \n",
       "2  0x057dc43af6187a931e78a56b3293912a5b42e5ec   \n",
       "3  0x112ab3e7440b6e6b5c0fe0245579755dd78285b3   \n",
       "4  0x889463ce0946ec870c6e9a5a42a0e85c6d1a20fd   \n",
       "5  0x246819f4bd184bdac1521155390c180afeb6be6b   \n",
       "6  0xd63de3ee4197fda5040d6045a3d4202c3b80f4dd   \n",
       "7  0x91f04ffe5aa427e977086746e7b9e1b997f2afa8   \n",
       "8  0x1f4b10ffb832581ae5a975ed38eeac9f4e960bdf   \n",
       "9  0x3904d7debce689933d4e10d245e714cbadb50c0e   \n",
       "\n",
       "                         seller.user.username  \\\n",
       "0                                    Farm4Ace   \n",
       "1                                         NaN   \n",
       "2                                    hagoromo   \n",
       "3                                         NaN   \n",
       "4                       OffTheBlockChainAxies   \n",
       "5                                   comerclap   \n",
       "6                                         NaN   \n",
       "7                                          yu   \n",
       "8                                  untitledid   \n",
       "9  0x3904d7debce689933d4e10d245e714cbadb50c0e   \n",
       "\n",
       "                       winner_account.address       Category  \n",
       "0  0x7ebc7e83cb2b43deafa82eb0ae8b5daea3fe9a13  Uncategorized  \n",
       "1  0x8691271d453022a447320ed82bcb2a30ba949d03  Uncategorized  \n",
       "2  0xff60e23eb04b76c699e3d180617c3245cbcafd78  Uncategorized  \n",
       "3  0xa58d0065cb381c80db1487e09ec803cd26a26264  Uncategorized  \n",
       "4  0x445ba6f9f553872fa9cdc14f5c0639365b39c140  Uncategorized  \n",
       "5  0xf796b8fb98c7c98fd4b5424ced013820d1f2ee76  Uncategorized  \n",
       "6  0xa621de726b1a71bf961354a57b9be62b77900d19  Uncategorized  \n",
       "7  0xe531544db533d5fdb6bdbbb1f8f5ee9545e94109  Uncategorized  \n",
       "8  0x057dc43af6187a931e78a56b3293912a5b42e5ec  Uncategorized  \n",
       "9  0xc074e40867818df9c264bb48bad75366d2a80868  Uncategorized  "
      ]
     },
     "execution_count": 21,
     "metadata": {},
     "output_type": "execute_result"
    }
   ],
   "source": [
    "#Open csv file\n",
    "df=pd.read_csv(r\"C:\\Users\\hp\\Desktop\\New folder - Copy\\Bluestacks\\OpenSea_NFT_Sale.csv\",parse_dates=['sales_datetime'])\n",
    "df.head(10)"
   ]
  },
  {
   "cell_type": "code",
   "execution_count": null,
   "metadata": {},
   "outputs": [],
   "source": []
  },
  {
   "cell_type": "code",
   "execution_count": null,
   "metadata": {},
   "outputs": [],
   "source": []
  },
  {
   "cell_type": "code",
   "execution_count": 30,
   "metadata": {},
   "outputs": [
    {
     "name": "stdout",
     "output_type": "stream",
     "text": [
      "0    False\n",
      "1     True\n",
      "2    False\n",
      "3     True\n",
      "4    False\n",
      "Name: A, dtype: bool\n"
     ]
    }
   ],
   "source": [
    "import pandas as pd\n",
    "\n",
    "# create a DataFrame\n",
    "df = pd.DataFrame({'A': [1, 2, 3, 4, 5], 'B': [2, 4, 6, 8, 10]})\n",
    "\n",
    "# check which values in column A are in column B\n",
    "is_in_B = df['A'].isin(df['B'])\n",
    "\n",
    "print(is_in_B)\n"
   ]
  },
  {
   "cell_type": "code",
   "execution_count": 23,
   "metadata": {},
   "outputs": [
    {
     "name": "stdout",
     "output_type": "stream",
     "text": [
      "2    1\n",
      "4    1\n",
      "Name: A, dtype: int64\n"
     ]
    }
   ],
   "source": [
    "counts = df['A'][is_in_B].value_counts()\n",
    "\n",
    "print(counts)\n"
   ]
  },
  {
   "cell_type": "code",
   "execution_count": 27,
   "metadata": {},
   "outputs": [
    {
     "name": "stdout",
     "output_type": "stream",
     "text": [
      "0     True\n",
      "1     True\n",
      "2     True\n",
      "3     True\n",
      "4    False\n",
      "dtype: bool\n"
     ]
    }
   ],
   "source": [
    "import pandas as pd\n",
    "\n",
    "# create a DataFrame\n",
    "df = pd.DataFrame({'A': [1, 2, 3, 4, 5], 'B': [1, 2, 3, 4, 10]})\n",
    "\n",
    "# compare the values in columns A and B\n",
    "comparison = df['A'] == df['B']\n",
    "\n",
    "print(comparison)\n"
   ]
  },
  {
   "cell_type": "code",
   "execution_count": 28,
   "metadata": {},
   "outputs": [
    {
     "name": "stdout",
     "output_type": "stream",
     "text": [
      "   A  B\n",
      "0  1  1\n",
      "1  2  2\n",
      "2  3  3\n",
      "3  4  4\n"
     ]
    }
   ],
   "source": [
    "selected_rows = df[ df['A'] == df['B'] ]\n",
    "\n",
    "print(selected_rows)\n"
   ]
  },
  {
   "cell_type": "code",
   "execution_count": 29,
   "metadata": {},
   "outputs": [
    {
     "name": "stdout",
     "output_type": "stream",
     "text": [
      "   A  B   C\n",
      "0  1  5   9\n",
      "2  3  7  11\n"
     ]
    }
   ],
   "source": [
    "import pandas as pd\n",
    "\n",
    "# create a DataFrame\n",
    "df = pd.DataFrame({'A': [1, 2, 3, 4], 'B': [5, 6, 7, 8], 'C': [9, 10, 11, 12]})\n",
    "\n",
    "# select the rows to be deleted\n",
    "to_delete = [1, 3]\n",
    "\n",
    "# delete the selected rows\n",
    "df = df.drop(index=to_delete)\n",
    "\n",
    "# display the resulting DataFrame\n",
    "print(df)\n"
   ]
  },
  {
   "cell_type": "code",
   "execution_count": 31,
   "metadata": {},
   "outputs": [
    {
     "name": "stdout",
     "output_type": "stream",
     "text": [
      "   A   C\n",
      "b  2  10\n",
      "c  3  11\n"
     ]
    }
   ],
   "source": [
    "import pandas as pd\n",
    "\n",
    "# create a DataFrame\n",
    "df = pd.DataFrame({'A': [1, 2, 3, 4], 'B': [5, 6, 7, 8], 'C': [9, 10, 11, 12]}, index=['a', 'b', 'c', 'd'])\n",
    "\n",
    "# slice the DataFrame using loc\n",
    "sliced_df = df.loc[['b', 'c'], ['A', 'C']]\n",
    "\n",
    "# display the sliced DataFrame\n",
    "print(sliced_df)\n"
   ]
  },
  {
   "cell_type": "code",
   "execution_count": null,
   "metadata": {},
   "outputs": [],
   "source": []
  }
 ],
 "metadata": {
  "kernelspec": {
   "display_name": "Python 3 (ipykernel)",
   "language": "python",
   "name": "python3"
  },
  "language_info": {
   "codemirror_mode": {
    "name": "ipython",
    "version": 3
   },
   "file_extension": ".py",
   "mimetype": "text/x-python",
   "name": "python",
   "nbconvert_exporter": "python",
   "pygments_lexer": "ipython3",
   "version": "3.10.9"
  },
  "vscode": {
   "interpreter": {
    "hash": "cd1dbde806342923d14bc9b918b403adc39a2bc8e77a7482d519b63d276ea248"
   }
  }
 },
 "nbformat": 4,
 "nbformat_minor": 2
}
