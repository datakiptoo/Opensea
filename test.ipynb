{
 "cells": [
  {
   "cell_type": "code",
   "execution_count": 2,
   "metadata": {},
   "outputs": [
    {
     "name": "stdout",
     "output_type": "stream",
     "text": [
      "2022-01-01     1.0\n",
      "2022-01-02     2.0\n",
      "2022-01-03     4.0\n",
      "2022-01-04     4.0\n",
      "2022-01-05     6.0\n",
      "2022-01-06     6.0\n",
      "2022-01-07     7.0\n",
      "2022-01-08    10.0\n",
      "2022-01-09    10.0\n",
      "2022-01-10    10.0\n",
      "Freq: D, dtype: float64\n"
     ]
    }
   ],
   "source": [
    "import pandas as pd\n",
    "\n",
    "# create a sample time series with missing values\n",
    "dates = pd.date_range(start='2022-01-01', end='2022-01-10')\n",
    "data = [1, 2, None, 4, None, 6, 7, None, None, 10]\n",
    "ts = pd.Series(data, index=dates)\n",
    "\n",
    "# fill missing values using forward fill\n",
    "ts_ffill = ts.fillna(method='bfill')\n",
    "\n",
    "# print the imputed time series\n",
    "print(ts_ffill)\n"
   ]
  },
  {
   "cell_type": "code",
   "execution_count": 3,
   "metadata": {},
   "outputs": [
    {
     "name": "stdout",
     "output_type": "stream",
     "text": [
      "2022-01-01     1.0\n",
      "2022-01-02     2.0\n",
      "2022-01-03     3.0\n",
      "2022-01-04     4.0\n",
      "2022-01-05     5.0\n",
      "2022-01-06     6.0\n",
      "2022-01-07     7.0\n",
      "2022-01-08     8.0\n",
      "2022-01-09     9.0\n",
      "2022-01-10    10.0\n",
      "Freq: D, dtype: float64\n"
     ]
    }
   ],
   "source": [
    "#Interpolation\n",
    "import pandas as pd\n",
    "import numpy as np\n",
    "\n",
    "# create a sample time series with missing values\n",
    "index = pd.date_range('2022-01-01', periods=10, freq='D')\n",
    "values = [1, 2, np.nan, 4, np.nan, 6, 7, np.nan, np.nan, 10]\n",
    "ts = pd.Series(values, index=index)\n",
    "\n",
    "# interpolate missing values using linear interpolation\n",
    "ts_interp = ts.interpolate()\n",
    "\n",
    "# print the imputed time series\n",
    "print(ts_interp)\n"
   ]
  },
  {
   "cell_type": "code",
   "execution_count": null,
   "metadata": {},
   "outputs": [],
   "source": []
  }
 ],
 "metadata": {
  "kernelspec": {
   "display_name": "myenv",
   "language": "python",
   "name": "python3"
  },
  "language_info": {
   "codemirror_mode": {
    "name": "ipython",
    "version": 3
   },
   "file_extension": ".py",
   "mimetype": "text/x-python",
   "name": "python",
   "nbconvert_exporter": "python",
   "pygments_lexer": "ipython3",
   "version": "3.10.9"
  },
  "orig_nbformat": 4,
  "vscode": {
   "interpreter": {
    "hash": "cd1dbde806342923d14bc9b918b403adc39a2bc8e77a7482d519b63d276ea248"
   }
  }
 },
 "nbformat": 4,
 "nbformat_minor": 2
}
